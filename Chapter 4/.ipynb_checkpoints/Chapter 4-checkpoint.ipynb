{
 "cells": [
  {
   "cell_type": "markdown",
   "metadata": {},
   "source": [
    "# Chapter 4: Livestock\n"
   ]
  },
  {
   "cell_type": "markdown",
   "metadata": {},
   "source": [
    "<img src=\"Chickens.jpg\" width=\"500\"/>"
   ]
  },
  {
   "cell_type": "markdown",
   "metadata": {},
   "source": [
    "## What is in a name?\n",
    "\n",
    "Have you ever heard about [*Gallus gallus domesticus*](https://en.wikipedia.org/wiki/Chicken)?\n",
    "\n",
    "<img src=\"chicken 2.png\" width=\"250\"/>\n",
    "\n",
    "[Video: How clever is a chicken?](https://www.youtube.com/watch?v=L7EfLNFRG7M)\n",
    "\n",
    "Before we get into doing calculations on chicken farming, we need to talk a little about classification.\n",
    "\n",
    "\n",
    "Every living thing requires a scientific name. The organisation structure for giving names changed throughout the last centuries, but let’s start with a simple introduction:\n",
    "\n",
    "[Video: Classification](https://youtu.be/SA02un37GFQ)\n",
    "\n",
    "Lots of different subdivisions before you get to the genus and specie names. Don’t bother trying to remember all the different classes. Let’s rather think about how one develops a system of classification. Let’s see what Paul Andersen has to say on the topic:\n",
    "\n",
    "[Video: Paul Anderson on classification](https://www.youtube.com/watch?v=tYL_8gv7RiE)\n",
    "\n",
    "The important part of this video is that DNA is the key to perform proper classification. Prior to the age of understanding DNA, classification was based on looks and functionality, but have a look at these two bugs, they are completely different by name! How long ago did these two organisms share a common ancestor?\n",
    "\n",
    "<img src=\"bug1.png\" width=\"650\" />\n",
    "  \n",
    "_Glomeris marginata and Armadillidium vulgare (left to right)_\n",
    "\n",
    "So it all has to do with the origin of species. Accordingly the map of evolution becomes the map of correct classification. All living things share a common ancestor and are more similar to you than what you think. Check this out:\n",
    "\n",
    "[Video: Molecules of evolution](https://www.youtube.com/watch?v=nvJFI3ChOUU)\n",
    "\n",
    "Interestinghow the molecules that we have discussed in the previous chapters are used by all these different life forms. You should realise how the tree of life represents a timeline of evolutionary development. The following interactive chart will give you an idea, try and develop a feeling for the chart with special emphasis on the initial split points between bacteria, archea and eukaryotes. Try and play with the map to determine the common ancestors of two vastly different species. When for example did humans split from mushrooms (fungi)😃?\n",
    "\n",
    "[Interactive map: From bacteria to humans](https://www.evogeneao.com/en)\n",
    "\n",
    "For more information on archaea, a relative recent discovery check this out:\n",
    "\n",
    "[Video: Archaea](https://www.youtube.com/watch?v=0W-uItr5M4g)\n",
    "\n",
    "So whether we are working with humans, plants, chicken, cattle or microbes (later chapters), we all share a common ancestor. We are in fact all connected!\n",
    "\n",
    "<img src=\"think.jpeg\" width=\"450\" />"
   ]
  },
  {
   "cell_type": "markdown",
   "metadata": {},
   "source": [
    "## Mass balances over Chicken farm\n",
    "\n",
    "So by now you have performed mass balances over the human metabolism and a crop growing agricultural unit. In this exersize we will connect three seperate mass balances together. The first will be the crop growth process where we produce food for humans and chickens. The second will be a mass balance over a chicken farm, while the third will be over the human metabolism where plant based food, chicken meat and eggs are consumed. The following diagram provides some perspective on the problem that we will solve:\n",
    "\n",
    "<img src=\"chickMB.png\" width=\"700\"/>\n",
    "\n",
    "### Chicken feed\n",
    "\n",
    "For simplicity we'll only use the foodcrops of chapter 3 and we will feed the chickens the same crops. We will alter the relative amounts of crops fed to the chickens. For this exercise we will use a chicken diet consisting of  35% soybeans, 30% sweet potato, 25% kale, and 10% blackberries. Use this information to determine the overall chemical composition of the chicken feed. Remember to use the calculations already performed in chapter 3. Please note that we want to have all calculations based on a dry basis, so remember to exclude the water fraction right from the start. Remeber this information on the edible part of the diet:\n",
    "\n",
    "\n",
    "|       | Sweet potato | Kale | Soybeans | Blackberries |     |\n",
    "| ----------- | ----------- | ----------- | ----------- | ----------- | ----------- |\n",
    "| Water | 74.7 | 86.4 | 10.6 | 87.9 | g/100g |\n",
    "\n",
    "\n",
    "\n",
    "\n",
    "\n"
   ]
  },
  {
   "cell_type": "code",
   "execution_count": 1,
   "metadata": {},
   "outputs": [],
   "source": [
    "import numpy as np\n",
    "from scipy.optimize import fsolve\n",
    "import math"
   ]
  },
  {
   "cell_type": "code",
   "execution_count": null,
   "metadata": {},
   "outputs": [],
   "source": [
    "fsoy = 0.35\n",
    "fswe = 0.3\n",
    "fkal = 0.25\n",
    "fbla = 0.10\n",
    "MMsoy = \n",
    "MMswe = \n",
    "MMkal = \n",
    "MMbla = \n",
    "nC  = 1*fsoy + 1*fswe + 1*fkal + 1*fbla\n",
    "nH  = 2.11*fsoy + 11.552*fswe + 20.15*fkal + 23.71*fbla\n",
    "nO  = 0.569*fsoy + 5.708*fswe + 9.794*fkal + 11.723*fbla\n",
    "nN  = 0.106*fsoy + 0.021*fswe + 0.064*fkal + 0.036*fbla\n",
    "nS  = 0.003*fsoy + 0.001*fswe + 0.002*fkal + 0.001*fbla\n",
    "nP  = 0.033*fsoy + 0.019*fswe + 0.023*fkal + 0.012*fbla\n",
    "nK  = 0.118*fsoy + 0.089*fswe + 0.176*fkal + 0.093*fbla\n",
    "nCa = 0.019*fsoy + 0.014*fswe + 0.121*fkal + 0.011*fbla\n",
    "nMg = 0.03*fsoy + 0.009*fswe + 0.018*fkal + 0.016*fbla\n",
    "\n",
    "\n",
    " \n",
    "\n",
    "print(nC, nH, nO, nN, nS, nP, nK, nCa, nMg)"
   ]
  },
  {
   "cell_type": "markdown",
   "metadata": {},
   "source": [
    "You should get the following formula:\n",
    "\n",
    "Caela, we want to use the dry chemical formulas in chapter 3, combined here in the right ratio. Please complete. only use SPKCaMg as additional elements.\n",
    "\n",
    "Now that we know the composition of the chicken feed, we want to calculate the amount of feed required for the chickens in order to provide a daily meal to Ben where 200g of chicken meat and 2 eggs are part of Ben's diet. For the laying hens we can only consider the daily nutritional requirements since we will assume an unlited lifespan of laying hens for now. For the broilers it is a different story, since these grow over a period of 9 weeks before being ready for slaughter. Accordingly we have to use all the food digested over its lifespan. This is because smaller chicks will have to fed on the same day that we slaughter our meat broiler. You can assume that laying hens require 130 kJ of energy per kg body mass per day, and broiler chickens (chickens bred for meat) require 80000 kJ per kg body mass per lifespan. [Caela, check this figure using various sources, I get about 9 kg of dry feed to grow a 3.7 kg broiler.] The average hen has a body mass of around 2.5 kg, and the average brioler chicken has a mass of around 1.8 kg. Given this information determine the dry flow rate of chicken food required to feed Ben. You can use the table below, but remember that this was given on a wet basis and that we want all final answers on a dry basis. \n",
    "\n",
    "|       | Energy (kJ/100g) |\n",
    "| ----------- | ----------- |\n",
    "| Sweet potato      | 361       |\n",
    "| Kale   | 180.6        |\n",
    "| Soybeans   | 1973        |\n",
    "| Blackberries   | 180        |\n",
    "\n",
    "Better to convert to a dry basis as soon as possible.\n",
    "\n",
    "Caela, please recalculate with dry amounts. Please note that the answer need to be express in direct relation to Ben's diet. So we can work with fractions of chickens. We can assume that the laying hens have an unlimited lifespan. With regards to feed for the broilers we need to also supply food for the growing broilers as they will be eaten daily. Your previous calculation only considered the feed of the broiler that gets slaughtered. If have added the info above, please incorporate with more accurate figures."
   ]
  },
  {
   "cell_type": "code",
   "execution_count": null,
   "metadata": {},
   "outputs": [],
   "source": []
  },
  {
   "cell_type": "markdown",
   "metadata": {},
   "source": [
    "### Chicken products\n",
    "\n",
    "Ben will consume 200g of chickenen meat and 2 eggs per day. Calculate the formula and 'flowrate' of these output streams from the chicken mass balance by using the table below.\n",
    "\n",
    "|       | Chicken | Eggs |     |\n",
    "| ----------- | ----------- | ----------- | ----------- |\n",
    "| Protein | 38 | 12 | g/100g |\n",
    "| Carbohydrates | 0 | 1 | g/100g |\n",
    "| Fat | 2 | 11 | g/100g |\n",
    "| Fibre | 0 | 0 | g/100g |\n",
    "    | Water | 59.4 | 75.5 | g/100g |\n",
    "| K | 220 | 126 | mg/100g |\n",
    "| Mg | 22 | 12 | mg/100g |\n",
    "| Ca | 5 | 55 | mg/100g |\n",
    "| P | 220 | 200 | mg/100g |\n",
    "| Fe | 1.1 | 1.8 | mg/100g |\n",
    "| Na | 84 | 140 | mg/100g |\n",
    "\n",
    "The formulas for protein, carbohydrate and fats will remain the same as in Chapter 3. Perform all calculations on a dry basis. You should get:\n",
    "\n",
    "Chicken meat....\n",
    "\n",
    "Chicken eggs....\n",
    "\n"
   ]
  },
  {
   "cell_type": "code",
   "execution_count": null,
   "metadata": {},
   "outputs": [],
   "source": []
  },
  {
   "cell_type": "markdown",
   "metadata": {},
   "source": [
    "### Chicken waste\n",
    "\n",
    "For the broilers there will be a lot of organic waste in the form of bones, feathers, organs, feet etc. We won't bore you with these calculations you can assume the following formula for all the chicken waste from broilers combined.\n",
    "\n",
    "....\n",
    "\n",
    "The chickens will off course also produce manure. You can use the following formula for the chicken manure of the broilers and the hens .... Use Google to estimate the amount of manure that will be generated on a dry basis:\n",
    "\n",
    "\n",
    "Lastly we also need to consider the egg shells as waste from the laying hens. Note that the egg information above did not include the shells. You can use the following formula for chicken eggs:\n",
    "\n",
    "....\n",
    "\n",
    "Use Google to estimate the amount of this specific stream."
   ]
  },
  {
   "cell_type": "code",
   "execution_count": null,
   "metadata": {},
   "outputs": [],
   "source": []
  },
  {
   "cell_type": "markdown",
   "metadata": {},
   "source": [
    "### Combining in overall mass balance\n",
    "\n",
    "We now have enough information to perform a mass CHON balance over the chicken farm. Calculate the amount of CO2 produced in the chicken farm"
   ]
  },
  {
   "cell_type": "markdown",
   "metadata": {},
   "source": [
    "### Area requirements\n",
    "\n",
    "We now want to compare the land area requirement of Ben's new diet (with chicken) to the the Vegan diet used in Chapter 3. In order to do this we need to adjust the autotrophic (plant) content of ben's diet. We can reduce the amount of soyabeans for Ben since there is ample protein in the chicken products. Use a combination 0f ..... for the plant part of the diet. Calculate the molecular formula of Ben's plant feed as well as the amounts required in order for Ben to still just consume 9000kJ per day.\n",
    "\n",
    "You now know the amounts required to grow plantfood for the chickens and Ben. Determine the land area required and include the area required for the chicken farm (Caela get some info."
   ]
  },
  {
   "cell_type": "markdown",
   "metadata": {},
   "source": [
    "Now that we have an bit of chemical engineering understanding on food crop agriculture it is time to have a look at annimals or livestock. Most humans prefer to have meat as part of their diet and accordingly an additional processing step have to be included after the fotosynthesis process before the humans can have their food. Important to understand that annimals requires food from plants similar to humans. It all start with the [autotrophs](https://en.wikipedia.org/wiki/Autotroph) before the [heterotrophs](https://en.wikipedia.org/wiki/Heterotroph)can eat.\n",
    "\n",
    "One important question to answer is whether meat from annimals is required in the human diet. Meat adds a of flavour to food, but vegetarians will argue that it is not a requirement in the human diet. Off course vegetarians still consume eggs and milk and thus livestock farming is still required to some extend. Only vegans live on plant based food only and they will argue that they get all the nutrition required for human health. Have a look at the following video and develop your own opinion on the statements used. We'll have a short discussion in class on the video.\n",
    "\n",
    "https://youtu.be/GhCmcQaJmso\n",
    "\n",
    "So for this year the focus will be on chicken farming. Given the very simple (and slightly incomplete) diet of chapter 2, we'll extend the human diet to include chicken meat and eggs. In addition we'll add ther following crop(?) to the chicken diet. For this calculation we'll have to perform two consecutive mass balances, fisrst the ...."
   ]
  }
 ],
 "metadata": {
  "kernelspec": {
   "display_name": "Python 3",
   "language": "python",
   "name": "python3"
  },
  "language_info": {
   "codemirror_mode": {
    "name": "ipython",
    "version": 3
   },
   "file_extension": ".py",
   "mimetype": "text/x-python",
   "name": "python",
   "nbconvert_exporter": "python",
   "pygments_lexer": "ipython3",
   "version": "3.8.3"
  }
 },
 "nbformat": 4,
 "nbformat_minor": 4
}
